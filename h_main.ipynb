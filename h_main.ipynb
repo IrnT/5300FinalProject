{
 "cells": [
  {
   "cell_type": "code",
   "execution_count": 6,
   "metadata": {
    "vscode": {
     "languageId": "r"
    }
   },
   "outputs": [
    {
     "data": {
      "text/html": [
       "<table class=\"dataframe\">\n",
       "<caption>A data.frame: 6 x 1</caption>\n",
       "<thead>\n",
       "\t<tr><th></th><th scope=col>fixed.acidity.volatile.acidity.citric.acid.residual.sugar.chlorides.free.sulfur.dioxide.total.sulfur.dioxide.density.pH.sulphates.alcohol.quality</th></tr>\n",
       "\t<tr><th></th><th scope=col>&lt;chr&gt;</th></tr>\n",
       "</thead>\n",
       "<tbody>\n",
       "\t<tr><th scope=row>1</th><td>7.4;0.7;0;1.9;0.076;11;34;0.9978;3.51;0.56;9.4;5    </td></tr>\n",
       "\t<tr><th scope=row>2</th><td>7.8;0.88;0;2.6;0.098;25;67;0.9968;3.2;0.68;9.8;5    </td></tr>\n",
       "\t<tr><th scope=row>3</th><td>7.8;0.76;0.04;2.3;0.092;15;54;0.997;3.26;0.65;9.8;5 </td></tr>\n",
       "\t<tr><th scope=row>4</th><td>11.2;0.28;0.56;1.9;0.075;17;60;0.998;3.16;0.58;9.8;6</td></tr>\n",
       "\t<tr><th scope=row>5</th><td>7.4;0.7;0;1.9;0.076;11;34;0.9978;3.51;0.56;9.4;5    </td></tr>\n",
       "\t<tr><th scope=row>6</th><td>7.4;0.66;0;1.8;0.075;13;40;0.9978;3.51;0.56;9.4;5   </td></tr>\n",
       "</tbody>\n",
       "</table>\n"
      ],
      "text/latex": [
       "A data.frame: 6 x 1\n",
       "\\begin{tabular}{r|l}\n",
       "  & fixed.acidity.volatile.acidity.citric.acid.residual.sugar.chlorides.free.sulfur.dioxide.total.sulfur.dioxide.density.pH.sulphates.alcohol.quality\\\\\n",
       "  & <chr>\\\\\n",
       "\\hline\n",
       "\t1 & 7.4;0.7;0;1.9;0.076;11;34;0.9978;3.51;0.56;9.4;5    \\\\\n",
       "\t2 & 7.8;0.88;0;2.6;0.098;25;67;0.9968;3.2;0.68;9.8;5    \\\\\n",
       "\t3 & 7.8;0.76;0.04;2.3;0.092;15;54;0.997;3.26;0.65;9.8;5 \\\\\n",
       "\t4 & 11.2;0.28;0.56;1.9;0.075;17;60;0.998;3.16;0.58;9.8;6\\\\\n",
       "\t5 & 7.4;0.7;0;1.9;0.076;11;34;0.9978;3.51;0.56;9.4;5    \\\\\n",
       "\t6 & 7.4;0.66;0;1.8;0.075;13;40;0.9978;3.51;0.56;9.4;5   \\\\\n",
       "\\end{tabular}\n"
      ],
      "text/markdown": [
       "\n",
       "A data.frame: 6 x 1\n",
       "\n",
       "| <!--/--> | fixed.acidity.volatile.acidity.citric.acid.residual.sugar.chlorides.free.sulfur.dioxide.total.sulfur.dioxide.density.pH.sulphates.alcohol.quality &lt;chr&gt; |\n",
       "|---|---|\n",
       "| 1 | 7.4;0.7;0;1.9;0.076;11;34;0.9978;3.51;0.56;9.4;5     |\n",
       "| 2 | 7.8;0.88;0;2.6;0.098;25;67;0.9968;3.2;0.68;9.8;5     |\n",
       "| 3 | 7.8;0.76;0.04;2.3;0.092;15;54;0.997;3.26;0.65;9.8;5  |\n",
       "| 4 | 11.2;0.28;0.56;1.9;0.075;17;60;0.998;3.16;0.58;9.8;6 |\n",
       "| 5 | 7.4;0.7;0;1.9;0.076;11;34;0.9978;3.51;0.56;9.4;5     |\n",
       "| 6 | 7.4;0.66;0;1.8;0.075;13;40;0.9978;3.51;0.56;9.4;5    |\n",
       "\n"
      ],
      "text/plain": [
       "  fixed.acidity.volatile.acidity.citric.acid.residual.sugar.chlorides.free.sulfur.dioxide.total.sulfur.dioxide.density.pH.sulphates.alcohol.quality\n",
       "1 7.4;0.7;0;1.9;0.076;11;34;0.9978;3.51;0.56;9.4;5                                                                                                 \n",
       "2 7.8;0.88;0;2.6;0.098;25;67;0.9968;3.2;0.68;9.8;5                                                                                                 \n",
       "3 7.8;0.76;0.04;2.3;0.092;15;54;0.997;3.26;0.65;9.8;5                                                                                              \n",
       "4 11.2;0.28;0.56;1.9;0.075;17;60;0.998;3.16;0.58;9.8;6                                                                                             \n",
       "5 7.4;0.7;0;1.9;0.076;11;34;0.9978;3.51;0.56;9.4;5                                                                                                 \n",
       "6 7.4;0.66;0;1.8;0.075;13;40;0.9978;3.51;0.56;9.4;5                                                                                                "
      ]
     },
     "metadata": {},
     "output_type": "display_data"
    },
    {
     "data": {
      "text/html": [
       "<table class=\"dataframe\">\n",
       "<caption>A data.frame: 6 x 1</caption>\n",
       "<thead>\n",
       "\t<tr><th></th><th scope=col>fixed.acidity.volatile.acidity.citric.acid.residual.sugar.chlorides.free.sulfur.dioxide.total.sulfur.dioxide.density.pH.sulphates.alcohol.quality</th></tr>\n",
       "\t<tr><th></th><th scope=col>&lt;chr&gt;</th></tr>\n",
       "</thead>\n",
       "<tbody>\n",
       "\t<tr><th scope=row>1</th><td>7;0.27;0.36;20.7;0.045;45;170;1.001;3;0.45;8.8;6    </td></tr>\n",
       "\t<tr><th scope=row>2</th><td>6.3;0.3;0.34;1.6;0.049;14;132;0.994;3.3;0.49;9.5;6  </td></tr>\n",
       "\t<tr><th scope=row>3</th><td>8.1;0.28;0.4;6.9;0.05;30;97;0.9951;3.26;0.44;10.1;6 </td></tr>\n",
       "\t<tr><th scope=row>4</th><td>7.2;0.23;0.32;8.5;0.058;47;186;0.9956;3.19;0.4;9.9;6</td></tr>\n",
       "\t<tr><th scope=row>5</th><td>7.2;0.23;0.32;8.5;0.058;47;186;0.9956;3.19;0.4;9.9;6</td></tr>\n",
       "\t<tr><th scope=row>6</th><td>8.1;0.28;0.4;6.9;0.05;30;97;0.9951;3.26;0.44;10.1;6 </td></tr>\n",
       "</tbody>\n",
       "</table>\n"
      ],
      "text/latex": [
       "A data.frame: 6 x 1\n",
       "\\begin{tabular}{r|l}\n",
       "  & fixed.acidity.volatile.acidity.citric.acid.residual.sugar.chlorides.free.sulfur.dioxide.total.sulfur.dioxide.density.pH.sulphates.alcohol.quality\\\\\n",
       "  & <chr>\\\\\n",
       "\\hline\n",
       "\t1 & 7;0.27;0.36;20.7;0.045;45;170;1.001;3;0.45;8.8;6    \\\\\n",
       "\t2 & 6.3;0.3;0.34;1.6;0.049;14;132;0.994;3.3;0.49;9.5;6  \\\\\n",
       "\t3 & 8.1;0.28;0.4;6.9;0.05;30;97;0.9951;3.26;0.44;10.1;6 \\\\\n",
       "\t4 & 7.2;0.23;0.32;8.5;0.058;47;186;0.9956;3.19;0.4;9.9;6\\\\\n",
       "\t5 & 7.2;0.23;0.32;8.5;0.058;47;186;0.9956;3.19;0.4;9.9;6\\\\\n",
       "\t6 & 8.1;0.28;0.4;6.9;0.05;30;97;0.9951;3.26;0.44;10.1;6 \\\\\n",
       "\\end{tabular}\n"
      ],
      "text/markdown": [
       "\n",
       "A data.frame: 6 x 1\n",
       "\n",
       "| <!--/--> | fixed.acidity.volatile.acidity.citric.acid.residual.sugar.chlorides.free.sulfur.dioxide.total.sulfur.dioxide.density.pH.sulphates.alcohol.quality &lt;chr&gt; |\n",
       "|---|---|\n",
       "| 1 | 7;0.27;0.36;20.7;0.045;45;170;1.001;3;0.45;8.8;6     |\n",
       "| 2 | 6.3;0.3;0.34;1.6;0.049;14;132;0.994;3.3;0.49;9.5;6   |\n",
       "| 3 | 8.1;0.28;0.4;6.9;0.05;30;97;0.9951;3.26;0.44;10.1;6  |\n",
       "| 4 | 7.2;0.23;0.32;8.5;0.058;47;186;0.9956;3.19;0.4;9.9;6 |\n",
       "| 5 | 7.2;0.23;0.32;8.5;0.058;47;186;0.9956;3.19;0.4;9.9;6 |\n",
       "| 6 | 8.1;0.28;0.4;6.9;0.05;30;97;0.9951;3.26;0.44;10.1;6  |\n",
       "\n"
      ],
      "text/plain": [
       "  fixed.acidity.volatile.acidity.citric.acid.residual.sugar.chlorides.free.sulfur.dioxide.total.sulfur.dioxide.density.pH.sulphates.alcohol.quality\n",
       "1 7;0.27;0.36;20.7;0.045;45;170;1.001;3;0.45;8.8;6                                                                                                 \n",
       "2 6.3;0.3;0.34;1.6;0.049;14;132;0.994;3.3;0.49;9.5;6                                                                                               \n",
       "3 8.1;0.28;0.4;6.9;0.05;30;97;0.9951;3.26;0.44;10.1;6                                                                                              \n",
       "4 7.2;0.23;0.32;8.5;0.058;47;186;0.9956;3.19;0.4;9.9;6                                                                                             \n",
       "5 7.2;0.23;0.32;8.5;0.058;47;186;0.9956;3.19;0.4;9.9;6                                                                                             \n",
       "6 8.1;0.28;0.4;6.9;0.05;30;97;0.9951;3.26;0.44;10.1;6                                                                                              "
      ]
     },
     "metadata": {},
     "output_type": "display_data"
    }
   ],
   "source": [
    "red_wine <- read.csv('data/winequality-red.csv')\n",
    "white_wine <- read.csv('data/winequality-white.csv')\n",
    "head(red_wine)\n",
    "head(white_wine)"
   ]
  }
 ],
 "metadata": {
  "kernelspec": {
   "display_name": "R",
   "language": "R",
   "name": "ir"
  },
  "language_info": {
   "codemirror_mode": "r",
   "file_extension": ".r",
   "mimetype": "text/x-r-source",
   "name": "R",
   "pygments_lexer": "r",
   "version": "4.3.3"
  }
 },
 "nbformat": 4,
 "nbformat_minor": 2
}
