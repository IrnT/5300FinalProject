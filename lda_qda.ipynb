{
 "cells": [
  {
   "cell_type": "raw",
   "metadata": {
    "vscode": {
     "languageId": "raw"
    }
   },
   "source": [
    "---\n",
    "title: LDA and QDA\n",
    "date: today\n",
    "author: Hannah Kim, Irene Tait, Kendall Gilbert, Powell Sheagren\n",
    "format:\n",
    "    html:\n",
    "        embed-resources: true\n",
    "---"
   ]
  },
  {
   "cell_type": "markdown",
   "metadata": {},
   "source": [
    "# Predict Energy Behavior of Prosumers\n",
    "\n",
    "## Introduction\n",
    "\n",
    "Questions to Address\n",
    "\n",
    "* Business Classification:\n",
    "    * Predict whether the prosumer is a business or not based on the features. \n",
    "* Electricity Prices:\n",
    "    * Predict the price of electricity and what features are having an impact on this price"
   ]
  },
  {
   "cell_type": "code",
   "execution_count": 1,
   "metadata": {
    "vscode": {
     "languageId": "r"
    }
   },
   "outputs": [
    {
     "name": "stderr",
     "output_type": "stream",
     "text": [
      "\n",
      "Attaching package: 'dplyr'\n",
      "\n",
      "\n",
      "The following objects are masked from 'package:stats':\n",
      "\n",
      "    filter, lag\n",
      "\n",
      "\n",
      "The following objects are masked from 'package:base':\n",
      "\n",
      "    intersect, setdiff, setequal, union\n",
      "\n",
      "\n",
      "corrplot 0.92 loaded\n",
      "\n",
      "Loading required package: Matrix\n",
      "\n",
      "Loaded glmnet 4.1-8\n",
      "\n",
      "\n",
      "Attaching package: 'MASS'\n",
      "\n",
      "\n",
      "The following object is masked from 'package:dplyr':\n",
      "\n",
      "    select\n",
      "\n",
      "\n",
      "Loading required package: ggplot2\n",
      "\n",
      "Loading required package: lattice\n",
      "\n",
      "Type 'citation(\"pROC\")' for a citation.\n",
      "\n",
      "\n",
      "Attaching package: 'pROC'\n",
      "\n",
      "\n",
      "The following objects are masked from 'package:stats':\n",
      "\n",
      "    cov, smooth, var\n",
      "\n",
      "\n"
     ]
    }
   ],
   "source": [
    "# import necessary libraries\n",
    "library(dplyr)\n",
    "library(reshape2)\n",
    "library(corrplot)\n",
    "library(rjson)\n",
    "library(glmnet)\n",
    "library(MASS)\n",
    "library(caret)\n",
    "library(pROC)\n",
    "library(klaR)"
   ]
  },
  {
   "cell_type": "markdown",
   "metadata": {},
   "source": [
    "## LDA and QDA on basic dataset"
   ]
  },
  {
   "cell_type": "markdown",
   "metadata": {},
   "source": [
    "### LDA"
   ]
  },
  {
   "cell_type": "code",
   "execution_count": 2,
   "metadata": {
    "vscode": {
     "languageId": "r"
    }
   },
   "outputs": [
    {
     "data": {
      "text/html": [
       "<table class=\"dataframe\">\n",
       "<caption>A data.frame: 6 x 9</caption>\n",
       "<thead>\n",
       "\t<tr><th></th><th scope=col>data_block_id</th><th scope=col>product_type</th><th scope=col>county</th><th scope=col>eic_count</th><th scope=col>installed_capacity</th><th scope=col>is_business</th><th scope=col>euros_per_mwh</th><th scope=col>lowest_price_per_mwh</th><th scope=col>highest_price_per_mwh</th></tr>\n",
       "\t<tr><th></th><th scope=col>&lt;int&gt;</th><th scope=col>&lt;int&gt;</th><th scope=col>&lt;int&gt;</th><th scope=col>&lt;int&gt;</th><th scope=col>&lt;dbl&gt;</th><th scope=col>&lt;int&gt;</th><th scope=col>&lt;dbl&gt;</th><th scope=col>&lt;dbl&gt;</th><th scope=col>&lt;dbl&gt;</th></tr>\n",
       "</thead>\n",
       "<tbody>\n",
       "\t<tr><th scope=row>1</th><td>2</td><td>1</td><td>0</td><td>108</td><td>952.89</td><td>0</td><td>96.99</td><td>45.62</td><td>46.29</td></tr>\n",
       "\t<tr><th scope=row>2</th><td>2</td><td>1</td><td>0</td><td>108</td><td>952.89</td><td>0</td><td>94.77</td><td>45.62</td><td>46.29</td></tr>\n",
       "\t<tr><th scope=row>3</th><td>2</td><td>1</td><td>0</td><td>108</td><td>952.89</td><td>0</td><td>93.88</td><td>45.62</td><td>46.29</td></tr>\n",
       "\t<tr><th scope=row>4</th><td>2</td><td>1</td><td>0</td><td>108</td><td>952.89</td><td>0</td><td>92.25</td><td>45.62</td><td>46.29</td></tr>\n",
       "\t<tr><th scope=row>5</th><td>2</td><td>1</td><td>0</td><td>108</td><td>952.89</td><td>0</td><td>91.83</td><td>45.62</td><td>46.29</td></tr>\n",
       "\t<tr><th scope=row>6</th><td>2</td><td>1</td><td>0</td><td>108</td><td>952.89</td><td>0</td><td>98.62</td><td>45.62</td><td>46.29</td></tr>\n",
       "</tbody>\n",
       "</table>\n"
      ],
      "text/latex": [
       "A data.frame: 6 x 9\n",
       "\\begin{tabular}{r|lllllllll}\n",
       "  & data\\_block\\_id & product\\_type & county & eic\\_count & installed\\_capacity & is\\_business & euros\\_per\\_mwh & lowest\\_price\\_per\\_mwh & highest\\_price\\_per\\_mwh\\\\\n",
       "  & <int> & <int> & <int> & <int> & <dbl> & <int> & <dbl> & <dbl> & <dbl>\\\\\n",
       "\\hline\n",
       "\t1 & 2 & 1 & 0 & 108 & 952.89 & 0 & 96.99 & 45.62 & 46.29\\\\\n",
       "\t2 & 2 & 1 & 0 & 108 & 952.89 & 0 & 94.77 & 45.62 & 46.29\\\\\n",
       "\t3 & 2 & 1 & 0 & 108 & 952.89 & 0 & 93.88 & 45.62 & 46.29\\\\\n",
       "\t4 & 2 & 1 & 0 & 108 & 952.89 & 0 & 92.25 & 45.62 & 46.29\\\\\n",
       "\t5 & 2 & 1 & 0 & 108 & 952.89 & 0 & 91.83 & 45.62 & 46.29\\\\\n",
       "\t6 & 2 & 1 & 0 & 108 & 952.89 & 0 & 98.62 & 45.62 & 46.29\\\\\n",
       "\\end{tabular}\n"
      ],
      "text/markdown": [
       "\n",
       "A data.frame: 6 x 9\n",
       "\n",
       "| <!--/--> | data_block_id &lt;int&gt; | product_type &lt;int&gt; | county &lt;int&gt; | eic_count &lt;int&gt; | installed_capacity &lt;dbl&gt; | is_business &lt;int&gt; | euros_per_mwh &lt;dbl&gt; | lowest_price_per_mwh &lt;dbl&gt; | highest_price_per_mwh &lt;dbl&gt; |\n",
       "|---|---|---|---|---|---|---|---|---|---|\n",
       "| 1 | 2 | 1 | 0 | 108 | 952.89 | 0 | 96.99 | 45.62 | 46.29 |\n",
       "| 2 | 2 | 1 | 0 | 108 | 952.89 | 0 | 94.77 | 45.62 | 46.29 |\n",
       "| 3 | 2 | 1 | 0 | 108 | 952.89 | 0 | 93.88 | 45.62 | 46.29 |\n",
       "| 4 | 2 | 1 | 0 | 108 | 952.89 | 0 | 92.25 | 45.62 | 46.29 |\n",
       "| 5 | 2 | 1 | 0 | 108 | 952.89 | 0 | 91.83 | 45.62 | 46.29 |\n",
       "| 6 | 2 | 1 | 0 | 108 | 952.89 | 0 | 98.62 | 45.62 | 46.29 |\n",
       "\n"
      ],
      "text/plain": [
       "  data_block_id product_type county eic_count installed_capacity is_business\n",
       "1 2             1            0      108       952.89             0          \n",
       "2 2             1            0      108       952.89             0          \n",
       "3 2             1            0      108       952.89             0          \n",
       "4 2             1            0      108       952.89             0          \n",
       "5 2             1            0      108       952.89             0          \n",
       "6 2             1            0      108       952.89             0          \n",
       "  euros_per_mwh lowest_price_per_mwh highest_price_per_mwh\n",
       "1 96.99         45.62                46.29                \n",
       "2 94.77         45.62                46.29                \n",
       "3 93.88         45.62                46.29                \n",
       "4 92.25         45.62                46.29                \n",
       "5 91.83         45.62                46.29                \n",
       "6 98.62         45.62                46.29                "
      ]
     },
     "metadata": {},
     "output_type": "display_data"
    }
   ],
   "source": [
    "# load the data\n",
    "# client data\n",
    "client <- read.csv('data/client.csv')\n",
    "\n",
    "# county_id_to_name_map data\n",
    "county_id_to_name <- fromJSON(file=\"county_id_to_name_map.json\")\n",
    "county_id_to_name <- as.data.frame(county_id_to_name)\n",
    "\n",
    "# electricity prices data\n",
    "electricity <- read.csv('data/electricity_prices.csv')\n",
    "\n",
    "# gas prices data\n",
    "gas <- read.csv('data/gas_prices.csv')\n",
    "\n",
    "# drop the date and forecast_date column\n",
    "client = subset(client, select = -c(date))\n",
    "electricity = subset(electricity, select = -c(origin_date))\n",
    "gas = subset(gas, select = -c(origin_date))\n",
    "\n",
    "electricity = subset(electricity, select = -c(forecast_date))\n",
    "gas = subset(gas, select = -c(forecast_date))\n",
    "\n",
    "# merge the three datasets\n",
    "df <- merge(client, electricity, by = 'data_block_id')\n",
    "df <- merge(df, gas, by = 'data_block_id')\n",
    "head(df)"
   ]
  },
  {
   "cell_type": "code",
   "execution_count": 4,
   "metadata": {
    "vscode": {
     "languageId": "r"
    }
   },
   "outputs": [
    {
     "name": "stdout",
     "output_type": "stream",
     "text": [
      "Call:\n",
      "lda(is_business ~ euros_per_mwh + lowest_price_per_mwh + installed_capacity + \n",
      "    eic_count + county + product_type + highest_price_per_mwh, \n",
      "    data = df)\n",
      "\n",
      "Prior probabilities of groups:\n",
      "        0         1 \n",
      "0.4632273 0.5367727 \n",
      "\n",
      "Group means:\n",
      "  euros_per_mwh lowest_price_per_mwh installed_capacity eic_count   county\n",
      "0      157.1564             95.17206           1267.700 113.46240 7.161602\n",
      "1      157.8121             95.83925           1608.749  38.72339 7.414031\n",
      "  product_type highest_price_per_mwh\n",
      "0     2.001545              107.9380\n",
      "1     1.810502              108.7805\n",
      "\n",
      "Coefficients of linear discriminants:\n",
      "                                LD1\n",
      "euros_per_mwh         -4.243005e-05\n",
      "lowest_price_per_mwh  -1.515436e-03\n",
      "installed_capacity     6.205327e-04\n",
      "eic_count             -1.162763e-02\n",
      "county                 4.508450e-03\n",
      "product_type          -1.977076e-01\n",
      "highest_price_per_mwh  1.594215e-03\n"
     ]
    }
   ],
   "source": [
    "# LDA\n",
    "lda <- lda(is_business ~ euros_per_mwh + lowest_price_per_mwh + installed_capacity + eic_count + county + product_type + highest_price_per_mwh, data = df)\n",
    "print(lda)"
   ]
  },
  {
   "cell_type": "markdown",
   "metadata": {},
   "source": [
    "### QDA"
   ]
  },
  {
   "cell_type": "code",
   "execution_count": 5,
   "metadata": {
    "vscode": {
     "languageId": "r"
    }
   },
   "outputs": [
    {
     "name": "stdout",
     "output_type": "stream",
     "text": [
      "Call:\n",
      "qda(is_business ~ euros_per_mwh + lowest_price_per_mwh + installed_capacity + \n",
      "    eic_count + county + product_type + highest_price_per_mwh, \n",
      "    data = df)\n",
      "\n",
      "Prior probabilities of groups:\n",
      "        0         1 \n",
      "0.4632273 0.5367727 \n",
      "\n",
      "Group means:\n",
      "  euros_per_mwh lowest_price_per_mwh installed_capacity eic_count   county\n",
      "0      157.1564             95.17206           1267.700 113.46240 7.161602\n",
      "1      157.8121             95.83925           1608.749  38.72339 7.414031\n",
      "  product_type highest_price_per_mwh\n",
      "0     2.001545              107.9380\n",
      "1     1.810502              108.7805\n"
     ]
    }
   ],
   "source": [
    "# QDA\n",
    "qda <- qda(is_business ~ euros_per_mwh + lowest_price_per_mwh + installed_capacity + eic_count + county + product_type + highest_price_per_mwh, data = df)\n",
    "print(qda)"
   ]
  },
  {
   "cell_type": "markdown",
   "metadata": {},
   "source": [
    "We tried out the LDA and QDA model on the basic dataset and looked how the model is performing.\n",
    "\n",
    "Although it did work well, the basic dataset has to be further cleaned and preprocessed to check if the results are right. "
   ]
  },
  {
   "cell_type": "markdown",
   "metadata": {},
   "source": [
    "## LDA and RDA on preprocessed dataset"
   ]
  },
  {
   "cell_type": "code",
   "execution_count": 6,
   "metadata": {
    "vscode": {
     "languageId": "r"
    }
   },
   "outputs": [],
   "source": [
    "# load the dataset\n",
    "tidyset <- read.csv('data/tidyset.csv')\n",
    "tidyset <- na.omit(tidyset)\n",
    "ctrl <- trainControl(method = \"cv\", number = 10)\n",
    "\n",
    "# drop unnecessary columns\n",
    "tidyset <- subset(tidyset, select = -c(datetime, UniqueID))"
   ]
  },
  {
   "cell_type": "markdown",
   "metadata": {},
   "source": [
    "### LDA"
   ]
  },
  {
   "cell_type": "code",
   "execution_count": 7,
   "metadata": {
    "vscode": {
     "languageId": "r"
    }
   },
   "outputs": [
    {
     "name": "stderr",
     "output_type": "stream",
     "text": [
      "Warning message in lda.default(x, grouping, ...):\n",
      "\"variables are collinear\"\n",
      "Warning message in lda.default(x, grouping, ...):\n",
      "\"variables are collinear\"\n",
      "Warning message in lda.default(x, grouping, ...):\n",
      "\"variables are collinear\"\n",
      "Warning message in lda.default(x, grouping, ...):\n",
      "\"variables are collinear\"\n",
      "Warning message in lda.default(x, grouping, ...):\n",
      "\"variables are collinear\"\n",
      "Warning message in lda.default(x, grouping, ...):\n",
      "\"variables are collinear\"\n",
      "Warning message in lda.default(x, grouping, ...):\n",
      "\"variables are collinear\"\n",
      "Warning message in lda.default(x, grouping, ...):\n",
      "\"variables are collinear\"\n",
      "Warning message in lda.default(x, grouping, ...):\n",
      "\"variables are collinear\"\n",
      "Warning message in lda.default(x, grouping, ...):\n",
      "\"variables are collinear\"\n",
      "Warning message in lda.default(x, grouping, ...):\n",
      "\"variables are collinear\"\n"
     ]
    },
    {
     "data": {
      "text/plain": [
       "Linear Discriminant Analysis \n",
       "\n",
       "65746 samples\n",
       "   27 predictor\n",
       "    2 classes: '0', '1' \n",
       "\n",
       "No pre-processing\n",
       "Resampling: Cross-Validated (10 fold) \n",
       "Summary of sample sizes: 59172, 59171, 59171, 59172, 59172, 59172, ... \n",
       "Resampling results:\n",
       "\n",
       "  Accuracy   Kappa    \n",
       "  0.8525843  0.7023282\n"
      ]
     },
     "metadata": {},
     "output_type": "display_data"
    }
   ],
   "source": [
    "# LDA\n",
    "set.seed(1)\n",
    "my_df <- tidyset\n",
    "my_df$is_business <- as.factor(my_df$is_business)\n",
    "\n",
    "train <- sample(c(TRUE,FALSE), nrow(my_df), replace = TRUE, prob = c(.7,.3))\n",
    "test <- (!train)\n",
    "train = my_df[train,]\n",
    "test = my_df[test,]\n",
    "\n",
    "lda <- train(is_business ~ ., data = train, method='lda', trControl = ctrl)\n",
    "\n",
    "lda"
   ]
  },
  {
   "cell_type": "code",
   "execution_count": 8,
   "metadata": {
    "vscode": {
     "languageId": "r"
    }
   },
   "outputs": [
    {
     "name": "stderr",
     "output_type": "stream",
     "text": [
      "Setting levels: control = 0, case = 1\n",
      "\n",
      "Setting direction: controls < cases\n",
      "\n"
     ]
    },
    {
     "name": "stdout",
     "output_type": "stream",
     "text": [
      "[1] \"LDA AUC: 0.851944934719911\"\n"
     ]
    }
   ],
   "source": [
    "# AUC of LDA\n",
    "lda_pred <- as.numeric(predict(lda, newdata=my_df))\n",
    "lda_roc <- roc(my_df$is_business, lda_pred)\n",
    "print(paste0(\"LDA AUC: \", lda_roc$auc))"
   ]
  },
  {
   "cell_type": "markdown",
   "metadata": {},
   "source": [
    "### RDA"
   ]
  },
  {
   "cell_type": "code",
   "execution_count": 9,
   "metadata": {
    "vscode": {
     "languageId": "r"
    }
   },
   "outputs": [
    {
     "name": "stderr",
     "output_type": "stream",
     "text": [
      "Warning message:\n",
      "\"predictions failed for Fold01: gamma=0.0, lambda=0.0 Error in solve.default(reg.cov) : \n",
      "  Lapack routine dgesv: system is exactly singular: U[25,25] = 0\n",
      "\"\n",
      "Warning message:\n",
      "\"predictions failed for Fold01: gamma=0.0, lambda=0.5 Error in solve.default(reg.cov) : \n",
      "  system is computationally singular: reciprocal condition number = 2.42739e-24\n",
      "\"\n",
      "Warning message:\n",
      "\"predictions failed for Fold01: gamma=0.0, lambda=1.0 Error in solve.default(reg.cov) : \n",
      "  system is computationally singular: reciprocal condition number = 2.30225e-24\n",
      "\"\n",
      "Warning message:\n",
      "\"predictions failed for Fold02: gamma=0.0, lambda=0.0 Error in solve.default(reg.cov) : \n",
      "  Lapack routine dgesv: system is exactly singular: U[25,25] = 0\n",
      "\"\n",
      "Warning message:\n",
      "\"predictions failed for Fold02: gamma=0.0, lambda=0.5 Error in solve.default(reg.cov) : \n",
      "  system is computationally singular: reciprocal condition number = 8.69842e-24\n",
      "\"\n",
      "Warning message:\n",
      "\"predictions failed for Fold02: gamma=0.0, lambda=1.0 Error in solve.default(reg.cov) : \n",
      "  system is computationally singular: reciprocal condition number = 1.49583e-24\n",
      "\"\n",
      "Warning message:\n",
      "\"predictions failed for Fold03: gamma=0.0, lambda=0.0 Error in solve.default(reg.cov) : \n",
      "  Lapack routine dgesv: system is exactly singular: U[25,25] = 0\n",
      "\"\n",
      "Warning message:\n",
      "\"predictions failed for Fold03: gamma=0.0, lambda=0.5 Error in solve.default(reg.cov) : \n",
      "  system is computationally singular: reciprocal condition number = 5.12711e-26\n",
      "\"\n",
      "Warning message:\n",
      "\"predictions failed for Fold03: gamma=0.0, lambda=1.0 Error in solve.default(reg.cov) : \n",
      "  system is computationally singular: reciprocal condition number = 7.76665e-24\n",
      "\"\n",
      "Warning message:\n",
      "\"predictions failed for Fold04: gamma=0.0, lambda=0.0 Error in solve.default(reg.cov) : \n",
      "  Lapack routine dgesv: system is exactly singular: U[25,25] = 0\n",
      "\"\n",
      "Warning message:\n",
      "\"predictions failed for Fold04: gamma=0.0, lambda=0.5 Error in solve.default(reg.cov) : \n",
      "  system is computationally singular: reciprocal condition number = 9.69762e-24\n",
      "\"\n",
      "Warning message:\n",
      "\"predictions failed for Fold04: gamma=0.0, lambda=1.0 Error in solve.default(reg.cov) : \n",
      "  system is computationally singular: reciprocal condition number = 8.04619e-24\n",
      "\"\n",
      "Warning message:\n",
      "\"predictions failed for Fold05: gamma=0.0, lambda=0.0 Error in solve.default(reg.cov) : \n",
      "  Lapack routine dgesv: system is exactly singular: U[25,25] = 0\n",
      "\"\n",
      "Warning message:\n",
      "\"predictions failed for Fold05: gamma=0.0, lambda=0.5 Error in solve.default(reg.cov) : \n",
      "  system is computationally singular: reciprocal condition number = 8.3677e-24\n",
      "\"\n",
      "Warning message:\n",
      "\"predictions failed for Fold05: gamma=0.0, lambda=1.0 Error in solve.default(reg.cov) : \n",
      "  system is computationally singular: reciprocal condition number = 1.91574e-24\n",
      "\"\n",
      "Warning message:\n",
      "\"predictions failed for Fold06: gamma=0.0, lambda=0.0 Error in solve.default(reg.cov) : \n",
      "  Lapack routine dgesv: system is exactly singular: U[25,25] = 0\n",
      "\"\n",
      "Warning message:\n",
      "\"predictions failed for Fold06: gamma=0.0, lambda=0.5 Error in solve.default(reg.cov) : \n",
      "  system is computationally singular: reciprocal condition number = 3.75075e-24\n",
      "\"\n",
      "Warning message:\n",
      "\"predictions failed for Fold06: gamma=0.0, lambda=1.0 Error in solve.default(reg.cov) : \n",
      "  system is computationally singular: reciprocal condition number = 2.57721e-24\n",
      "\"\n",
      "Warning message:\n",
      "\"predictions failed for Fold07: gamma=0.0, lambda=0.0 Error in solve.default(reg.cov) : \n",
      "  Lapack routine dgesv: system is exactly singular: U[25,25] = 0\n",
      "\"\n",
      "Warning message:\n",
      "\"predictions failed for Fold07: gamma=0.0, lambda=0.5 Error in solve.default(reg.cov) : \n",
      "  system is computationally singular: reciprocal condition number = 1.0212e-23\n",
      "\"\n",
      "Warning message:\n",
      "\"predictions failed for Fold07: gamma=0.0, lambda=1.0 Error in solve.default(reg.cov) : \n",
      "  system is computationally singular: reciprocal condition number = 7.18588e-24\n",
      "\"\n",
      "Warning message:\n",
      "\"predictions failed for Fold08: gamma=0.0, lambda=0.0 Error in solve.default(reg.cov) : \n",
      "  Lapack routine dgesv: system is exactly singular: U[25,25] = 0\n",
      "\"\n",
      "Warning message:\n",
      "\"predictions failed for Fold08: gamma=0.0, lambda=0.5 Error in solve.default(reg.cov) : \n",
      "  system is computationally singular: reciprocal condition number = 6.86086e-24\n",
      "\"\n",
      "Warning message:\n",
      "\"predictions failed for Fold08: gamma=0.0, lambda=1.0 Error in solve.default(reg.cov) : \n",
      "  system is computationally singular: reciprocal condition number = 4.86621e-24\n",
      "\"\n",
      "Warning message:\n",
      "\"predictions failed for Fold09: gamma=0.0, lambda=0.0 Error in solve.default(reg.cov) : \n",
      "  Lapack routine dgesv: system is exactly singular: U[25,25] = 0\n",
      "\"\n",
      "Warning message:\n",
      "\"predictions failed for Fold09: gamma=0.0, lambda=0.5 Error in solve.default(reg.cov) : \n",
      "  system is computationally singular: reciprocal condition number = 4.0942e-24\n",
      "\"\n",
      "Warning message:\n",
      "\"predictions failed for Fold09: gamma=0.0, lambda=1.0 Error in solve.default(reg.cov) : \n",
      "  system is computationally singular: reciprocal condition number = 3.35343e-25\n",
      "\"\n",
      "Warning message:\n",
      "\"predictions failed for Fold10: gamma=0.0, lambda=0.0 Error in solve.default(reg.cov) : \n",
      "  Lapack routine dgesv: system is exactly singular: U[25,25] = 0\n",
      "\"\n",
      "Warning message:\n",
      "\"predictions failed for Fold10: gamma=0.0, lambda=0.5 Error in solve.default(reg.cov) : \n",
      "  system is computationally singular: reciprocal condition number = 2.16677e-24\n",
      "\"\n",
      "Warning message:\n",
      "\"predictions failed for Fold10: gamma=0.0, lambda=1.0 Error in solve.default(reg.cov) : \n",
      "  system is computationally singular: reciprocal condition number = 8.8081e-25\n",
      "\"\n",
      "Warning message in nominalTrainWorkflow(x = x, y = y, wts = weights, info = trainInfo, :\n",
      "\"There were missing values in resampled performance measures.\"\n",
      "Warning message in train.default(x, y, weights = w, ...):\n",
      "\"missing values found in aggregated results\"\n"
     ]
    },
    {
     "data": {
      "text/plain": [
       "Regularized Discriminant Analysis \n",
       "\n",
       "65746 samples\n",
       "   27 predictor\n",
       "    2 classes: '0', '1' \n",
       "\n",
       "No pre-processing\n",
       "Resampling: Cross-Validated (10 fold) \n",
       "Summary of sample sizes: 59172, 59171, 59171, 59172, 59172, 59172, ... \n",
       "Resampling results across tuning parameters:\n",
       "\n",
       "  gamma  lambda  Accuracy   Kappa       \n",
       "  0.0    0.0           NaN           NaN\n",
       "  0.0    0.5           NaN           NaN\n",
       "  0.0    1.0           NaN           NaN\n",
       "  0.5    0.0     0.5476227  1.390298e-02\n",
       "  0.5    0.5     0.5422535  3.602592e-05\n",
       "  0.5    1.0     0.5422383  0.000000e+00\n",
       "  1.0    0.0     0.5144497  1.630323e-02\n",
       "  1.0    0.5     0.5138412  1.630009e-02\n",
       "  1.0    1.0     0.5132481  1.637233e-02\n",
       "\n",
       "Accuracy was used to select the optimal model using the largest value.\n",
       "The final values used for the model were gamma = 0.5 and lambda = 0."
      ]
     },
     "metadata": {},
     "output_type": "display_data"
    }
   ],
   "source": [
    "# RDA\n",
    "set.seed(1)\n",
    "my_df <- tidyset\n",
    "my_df$is_business <- as.factor(my_df$is_business)\n",
    "\n",
    "train <- sample(c(TRUE,FALSE), nrow(my_df), replace = TRUE, prob = c(.7,.3))\n",
    "test <- (!train)\n",
    "train = my_df[train,]\n",
    "test = my_df[test,]\n",
    "\n",
    "rda <- train(is_business ~ ., data = train, method='rda', trControl = ctrl)\n",
    "\n",
    "rda"
   ]
  },
  {
   "cell_type": "code",
   "execution_count": 10,
   "metadata": {
    "vscode": {
     "languageId": "r"
    }
   },
   "outputs": [
    {
     "name": "stderr",
     "output_type": "stream",
     "text": [
      "Setting levels: control = 0, case = 1\n",
      "\n",
      "Setting direction: controls < cases\n",
      "\n"
     ]
    },
    {
     "name": "stdout",
     "output_type": "stream",
     "text": [
      "[1] \"RDA AUC: 0.500162733930024\"\n"
     ]
    }
   ],
   "source": [
    "rda_pred <- as.numeric(predict(rda, newdata=my_df))\n",
    "rda_roc <- roc(my_df$is_business, rda_pred)\n",
    "print(paste0(\"RDA AUC: \", rda_roc$auc))"
   ]
  },
  {
   "cell_type": "markdown",
   "metadata": {},
   "source": [
    "Due to high multicollinearity, we used RDA instead of QDA. Although we were able to get the accuracy of the models, it turns out that the models were not the best fit for our dataset. "
   ]
  },
  {
   "cell_type": "markdown",
   "metadata": {},
   "source": [
    "## Logistic Regression vs. LDA vs. RDA"
   ]
  },
  {
   "cell_type": "markdown",
   "metadata": {},
   "source": [
    "### Logistic Regression"
   ]
  },
  {
   "cell_type": "code",
   "execution_count": 11,
   "metadata": {
    "vscode": {
     "languageId": "r"
    }
   },
   "outputs": [
    {
     "name": "stderr",
     "output_type": "stream",
     "text": [
      "Warning message:\n",
      "\"glm.fit: algorithm did not converge\"\n",
      "Warning message:\n",
      "\"glm.fit: fitted probabilities numerically 0 or 1 occurred\"\n",
      "Warning message:\n",
      "\"glm.fit: algorithm did not converge\"\n",
      "Warning message:\n",
      "\"glm.fit: fitted probabilities numerically 0 or 1 occurred\"\n",
      "Warning message:\n",
      "\"glm.fit: algorithm did not converge\"\n",
      "Warning message:\n",
      "\"glm.fit: fitted probabilities numerically 0 or 1 occurred\"\n",
      "Warning message:\n",
      "\"glm.fit: algorithm did not converge\"\n",
      "Warning message:\n",
      "\"glm.fit: fitted probabilities numerically 0 or 1 occurred\"\n",
      "Warning message:\n",
      "\"glm.fit: algorithm did not converge\"\n",
      "Warning message:\n",
      "\"glm.fit: fitted probabilities numerically 0 or 1 occurred\"\n",
      "Warning message:\n",
      "\"glm.fit: algorithm did not converge\"\n",
      "Warning message:\n",
      "\"glm.fit: fitted probabilities numerically 0 or 1 occurred\"\n",
      "Warning message:\n",
      "\"glm.fit: algorithm did not converge\"\n",
      "Warning message:\n",
      "\"glm.fit: fitted probabilities numerically 0 or 1 occurred\"\n",
      "Warning message:\n",
      "\"glm.fit: algorithm did not converge\"\n",
      "Warning message:\n",
      "\"glm.fit: fitted probabilities numerically 0 or 1 occurred\"\n",
      "Warning message:\n",
      "\"glm.fit: algorithm did not converge\"\n",
      "Warning message:\n",
      "\"glm.fit: fitted probabilities numerically 0 or 1 occurred\"\n",
      "Warning message:\n",
      "\"glm.fit: algorithm did not converge\"\n",
      "Warning message:\n",
      "\"glm.fit: fitted probabilities numerically 0 or 1 occurred\"\n",
      "Warning message:\n",
      "\"glm.fit: algorithm did not converge\"\n",
      "Warning message:\n",
      "\"glm.fit: fitted probabilities numerically 0 or 1 occurred\"\n"
     ]
    },
    {
     "data": {
      "text/plain": [
       "Generalized Linear Model \n",
       "\n",
       "94040 samples\n",
       "   27 predictor\n",
       "    2 classes: '0', '1' \n",
       "\n",
       "No pre-processing\n",
       "Resampling: Cross-Validated (10 fold) \n",
       "Summary of sample sizes: 84636, 84636, 84636, 84636, 84636, 84636, ... \n",
       "Resampling results:\n",
       "\n",
       "  Accuracy   Kappa    \n",
       "  0.8283065  0.6596913\n"
      ]
     },
     "metadata": {},
     "output_type": "display_data"
    }
   ],
   "source": [
    "lgm <- train(is_business ~ ., data = my_df, method = \"glm\",\n",
    "                        trControl = ctrl, family = \"binomial\")\n",
    "lgm"
   ]
  },
  {
   "cell_type": "code",
   "execution_count": 12,
   "metadata": {
    "vscode": {
     "languageId": "r"
    }
   },
   "outputs": [
    {
     "name": "stderr",
     "output_type": "stream",
     "text": [
      "Setting levels: control = 0, case = 1\n",
      "\n",
      "Setting direction: controls < cases\n",
      "\n"
     ]
    },
    {
     "name": "stdout",
     "output_type": "stream",
     "text": [
      "[1] \"Logistic Regression AUC: 0.860780439443119\"\n"
     ]
    }
   ],
   "source": [
    "lgm_pred <- as.numeric(predict(lgm, newdata=my_df))\n",
    "lgm_roc <- roc(my_df$is_business, lgm_pred)\n",
    "print(paste0(\"Logistic Regression AUC: \", lgm_roc$auc))"
   ]
  },
  {
   "cell_type": "markdown",
   "metadata": {},
   "source": [
    "### ROC Curves"
   ]
  },
  {
   "cell_type": "code",
   "execution_count": 13,
   "metadata": {
    "vscode": {
     "languageId": "r"
    }
   },
   "outputs": [
    {
     "data": {
      "image/png": "[encoded data removed]",
      "text/plain": [
       "Plot with title \"ROC Curves of Logistic Regression, LDA\""
      ]
     },
     "metadata": {
      "image/png": {
       "height": 420,
       "width": 420
      }
     },
     "output_type": "display_data"
    }
   ],
   "source": [
    "# plot ROC curves\n",
    "\n",
    "lgm_str = paste0(\"Logistic Regression: \", round(lgm_roc$auc, digits=2))\n",
    "lda_str = paste0(\"LDA: \", round(lda_roc$auc, digits=2))\n",
    "rda_str = paste0(\"RDA: \", round(rda_roc$auc, digits=2))\n",
    "\n",
    "# png(\"roc_curves.png\")\n",
    "plot(lgm_roc, col = \"#a997df\", main = \"ROC Curves of Logistic Regression, LDA\", ylim = c(0, 1), lwd = 2)\n",
    "lines(lda_roc, col = \"#87A330\", lwd = 2)\n",
    "lines(rda_roc, col = \"#f6ae2d\", lwd = 2)\n",
    "legend(\"bottomright\", legend = c(lgm_str, lda_str, rda_str),\n",
    "       col = c(\"#a997df\", \"#87A330\", \"#f6ae2d\"), lwd = 2)\n",
    "\n",
    "# print AUC values\n",
    "# cat(\"Logistic Regression AUC:\", lgm_roc$auc, \"\\n\")\n",
    "# cat(\"LDA AUC:\", lda_roc$auc, \"\\n\")\n",
    "# cat(\"QDA AUC:\", qda_roc$auc, \"\\n\")\n",
    "# dev.off()"
   ]
  },
  {
   "cell_type": "markdown",
   "metadata": {},
   "source": [
    "Since LDA and QDA, including RDA are not the best models for out datset, we compared the obtained accuracy with logistic regression model. We can see that logistic regression performed the best. But LDA can also be used as a model for our dataset if we have a small number of features."
   ]
  }
 ],
 "metadata": {
  "kernelspec": {
   "display_name": "R",
   "language": "R",
   "name": "ir"
  },
  "language_info": {
   "codemirror_mode": "r",
   "file_extension": ".r",
   "mimetype": "text/x-r-source",
   "name": "R",
   "pygments_lexer": "r",
   "version": "4.3.3"
  }
 },
 "nbformat": 4,
 "nbformat_minor": 2
}
