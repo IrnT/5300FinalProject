{
 "cells": [
  {
   "cell_type": "markdown",
   "metadata": {},
   "source": [
    "# LETS FUCKING GO"
   ]
  },
  {
   "cell_type": "markdown",
   "metadata": {},
   "source": [
    "## Reading in data + cleaning"
   ]
  },
  {
   "cell_type": "code",
   "execution_count": 2,
   "metadata": {},
   "outputs": [
    {
     "name": "stderr",
     "output_type": "stream",
     "text": [
      "C:\\Users\\duckd\\AppData\\Local\\Temp\\ipykernel_9576\\4181408151.py:4: DeprecationWarning: \n",
      "Pyarrow will become a required dependency of pandas in the next major release of pandas (pandas 3.0),\n",
      "(to allow more performant data types, such as the Arrow string type, and better interoperability with other libraries)\n",
      "but was not found to be installed on your system.\n",
      "If this would cause problems for you,\n",
      "please provide us feedback at https://github.com/pandas-dev/pandas/issues/54466\n",
      "        \n",
      "  import pandas as pd\n"
     ]
    }
   ],
   "source": [
    "import numpy as np\n",
    "import matplotlib.pyplot as plt\n",
    "from mpl_toolkits.mplot3d import Axes3D\n",
    "import pandas as pd\n",
    "from keras import callbacks\n",
    "\n",
    "from keras import models\n",
    "from keras import layers\n",
    "from keras import regularizers\n",
    "\n",
    "from datetime import date"
   ]
  },
  {
   "cell_type": "code",
   "execution_count": 19,
   "metadata": {},
   "outputs": [
    {
     "name": "stdout",
     "output_type": "stream",
     "text": [
      "       Unnamed: 0  data_block_id  county  product_type  is_business  \\\n",
      "0               1            576       0             0            1   \n",
      "1               2            576       0             1            0   \n",
      "2               3            576       0             1            1   \n",
      "3               4            576       0             2            0   \n",
      "4               5            576       0             2            1   \n",
      "...           ...            ...     ...           ...          ...   \n",
      "95846       95847            636      15             0            1   \n",
      "95847       95848            636      15             1            0   \n",
      "95848       95849            636      15             1            1   \n",
      "95849       95850            636      15             3            0   \n",
      "95850       95851            636      15             3            1   \n",
      "\n",
      "                  datetime  prediction_unit_id   avg_temp   avg_dew  avg_rain  \\\n",
      "0      2023-03-31 00:00:00                   3  -3.516667 -5.366667      0.00   \n",
      "1      2023-03-31 00:00:00                   0  -3.516667 -5.366667      0.00   \n",
      "2      2023-03-31 00:00:00                   4  -3.516667 -5.366667      0.00   \n",
      "3      2023-03-31 00:00:00                   1  -3.516667 -5.366667      0.00   \n",
      "4      2023-03-31 00:00:00                  61  -3.516667 -5.366667      0.00   \n",
      "...                    ...                 ...        ...       ...       ...   \n",
      "95846  2023-05-30 10:00:00                  64  13.880000  3.040000      0.04   \n",
      "95847  2023-05-30 10:00:00                  57  13.880000  3.040000      0.04   \n",
      "95848  2023-05-30 10:00:00                  59  13.880000  3.040000      0.04   \n",
      "95849  2023-05-30 10:00:00                  58  13.880000  3.040000      0.04   \n",
      "95850  2023-05-30 10:00:00                  60  13.880000  3.040000      0.04   \n",
      "\n",
      "       ...  avg_diffuse_radiation  county_name  daily_gas_low_per_mwh  \\\n",
      "0      ...                    0.0     Harjumaa                  46.16   \n",
      "1      ...                    0.0     Harjumaa                  46.16   \n",
      "2      ...                    0.0     Harjumaa                  46.16   \n",
      "3      ...                    0.0     Harjumaa                  46.16   \n",
      "4      ...                    0.0     Harjumaa                  46.16   \n",
      "...    ...                    ...          ...                    ...   \n",
      "95846  ...                  222.0      Võrumaa                  29.00   \n",
      "95847  ...                  222.0      Võrumaa                  29.00   \n",
      "95848  ...                  222.0      Võrumaa                  29.00   \n",
      "95849  ...                  222.0      Võrumaa                  29.00   \n",
      "95850  ...                  222.0      Võrumaa                  29.00   \n",
      "\n",
      "       daily_gas_high_per_mwh  hourly_solar_per_mwh  eic_count  \\\n",
      "0                       54.99                 37.24       22.0   \n",
      "1                       54.99                 37.24      547.0   \n",
      "2                       54.99                 37.24       92.0   \n",
      "3                       54.99                 37.24       16.0   \n",
      "4                       54.99                 37.24       13.0   \n",
      "...                       ...                   ...        ...   \n",
      "95846                   34.00                 82.37       15.0   \n",
      "95847                   34.00                 82.37       51.0   \n",
      "95848                   34.00                 82.37       20.0   \n",
      "95849                   34.00                 82.37      161.0   \n",
      "95850                   34.00                 82.37       55.0   \n",
      "\n",
      "       installed_capacity  UniqueID  ConsumptionTarget  ProductionTarget  \n",
      "0                1036.200         1            724.560             0.000  \n",
      "1                5250.705         2           1133.353             2.087  \n",
      "2                2500.800         3            954.180             0.000  \n",
      "3                  62.500         4             18.323             0.000  \n",
      "4                  55.700         5             80.817             0.078  \n",
      "...                   ...       ...                ...               ...  \n",
      "95846             620.000     95847            691.511            86.199  \n",
      "95847             415.600     95848             19.035           139.026  \n",
      "95848             624.500     95849             48.787           184.771  \n",
      "95849            2035.750     95850             22.457           630.169  \n",
      "95850            2188.200     95851            444.357           496.085  \n",
      "\n",
      "[95851 rows x 30 columns]\n",
      "With NAs: 95851\n",
      "Without NAs: 94040\n"
     ]
    }
   ],
   "source": [
    "## Importing dataset\n",
    "tidyset = pd.read_csv(\"../data/tidyset.csv\")\n",
    "print(tidyset)\n",
    "\n",
    "## droping irrelvant columns\n",
    "set = tidyset.drop([\"Unnamed: 0\",\"county_name\"], axis = 1)\n",
    "\n",
    "set[\"datetime\"] = pd.to_datetime(set[\"datetime\"])\n",
    "set[\"datetime\"] = set[\"datetime\"].apply(lambda x: x.toordinal())\n",
    "print(\"With NAs: \" + str(set.shape[0]))\n",
    "set = set.dropna()\n",
    "print(\"Without NAs: \" + str(set.shape[0]))"
   ]
  },
  {
   "cell_type": "code",
   "execution_count": 21,
   "metadata": {},
   "outputs": [],
   "source": [
    "from sklearn.model_selection import train_test_split\n",
    "\n",
    "X = set.drop([\"ConsumptionTarget\",\"ProductionTarget\"], axis = 1)\n",
    "y = set[\"ConsumptionTarget\"] - set[\"ProductionTarget\"]\n",
    "\n",
    "x_means = np.mean(X,axis=0)\n",
    "x_std = np.std(X,axis = 0)\n",
    "x_total = (X - x_means)/x_std\n",
    "\n",
    "y_means = np.mean(y,axis=0)\n",
    "y_std = np.std(y,axis = 0)\n",
    "y_total = (y - y_means)/y_std\n",
    "\n",
    "X_train, X_test, y_train, y_test = train_test_split(x_total, y_total, test_size=0.2, random_state=42)\n"
   ]
  },
  {
   "cell_type": "code",
   "execution_count": 23,
   "metadata": {},
   "outputs": [
    {
     "name": "stdout",
     "output_type": "stream",
     "text": [
      "       data_block_id        county  product_type   is_business      datetime  \\\n",
      "count   75232.000000  75232.000000  75232.000000  75232.000000  75232.000000   \n",
      "mean       -0.000622      0.001633      0.001204      0.001281     -0.000622   \n",
      "std         1.001555      1.001099      0.999509      0.999896      1.001555   \n",
      "min        -1.717421     -1.493512     -1.699219     -1.089135     -1.717421   \n",
      "25%        -0.857218     -0.873267     -0.786217     -1.089135     -0.857218   \n",
      "50%         0.002986     -0.046272      0.126785      0.918160      0.002986   \n",
      "75%         0.863189      0.780722      1.039788      0.918160      0.863189   \n",
      "max         1.723393      1.607717      1.039788      0.918160      1.723393   \n",
      "\n",
      "       prediction_unit_id      avg_temp       avg_dew      avg_rain  \\\n",
      "count        75232.000000  75232.000000  75232.000000  75232.000000   \n",
      "mean             0.003140     -0.002934     -0.002268     -0.000942   \n",
      "std              1.000527      1.000516      1.001312      0.998825   \n",
      "min             -1.657176     -2.264547     -2.672489     -0.224769   \n",
      "25%             -0.862761     -0.758674     -0.695151     -0.224769   \n",
      "50%             -0.018695     -0.015605     -0.014198     -0.224769   \n",
      "75%              0.924672      0.717167      0.697175     -0.224769   \n",
      "max              1.719087      2.573410      3.013820     16.945107   \n",
      "\n",
      "       avg_snowfall  ...  avg_winddirection_10m  avg_shortwave_radiation  \\\n",
      "count  75232.000000  ...           75232.000000             75232.000000   \n",
      "mean      -0.000137  ...              -0.003763                -0.001468   \n",
      "std        1.002747  ...               1.001161                 0.999411   \n",
      "min       -0.135220  ...              -1.700148                -0.890207   \n",
      "25%       -0.135220  ...              -0.895544                -0.890207   \n",
      "50%       -0.135220  ...               0.123620                -0.449883   \n",
      "75%       -0.135220  ...               0.871332                 0.819136   \n",
      "max       17.460852  ...               1.801096                 2.451319   \n",
      "\n",
      "       avg_direct_solar_radiation  avg_diffuse_radiation  \\\n",
      "count                75232.000000           75232.000000   \n",
      "mean                    -0.001347              -0.001313   \n",
      "std                      0.999268               0.999667   \n",
      "min                     -0.762114              -0.934622   \n",
      "25%                     -0.762114              -0.934622   \n",
      "50%                     -0.603667              -0.191417   \n",
      "75%                      0.648245               0.578330   \n",
      "max                      2.904820               3.936021   \n",
      "\n",
      "       daily_gas_low_per_mwh  daily_gas_high_per_mwh  hourly_solar_per_mwh  \\\n",
      "count           75232.000000            75232.000000          75232.000000   \n",
      "mean               -0.000421                0.000692              0.001399   \n",
      "std                 1.000968                1.001560              0.999204   \n",
      "min                -2.093558               -1.818701             -2.021183   \n",
      "25%                -0.735731               -0.961022             -0.727418   \n",
      "50%                 0.332222                0.246337              0.008532   \n",
      "75%                 0.767032                0.659345              0.640548   \n",
      "max                 1.773959                1.760698              3.556191   \n",
      "\n",
      "          eic_count  installed_capacity      UniqueID  \n",
      "count  75232.000000        75232.000000  75232.000000  \n",
      "mean       0.000443            0.001554     -0.000605  \n",
      "std        1.001289            1.002140      1.001538  \n",
      "min       -0.499091           -0.629141     -1.732385  \n",
      "25%       -0.440521           -0.494403     -0.869197  \n",
      "50%       -0.294096           -0.306829      0.002910  \n",
      "75%       -0.054936            0.052598      0.867507  \n",
      "max        6.880710            5.416469      1.728673  \n",
      "\n",
      "[8 rows x 26 columns]\n",
      "count    75232.000000\n",
      "mean         0.001799\n",
      "std          0.998534\n",
      "min         -8.862973\n",
      "25%         -0.167553\n",
      "50%         -0.067445\n",
      "75%          0.084599\n",
      "max         10.771255\n",
      "dtype: float64\n"
     ]
    }
   ],
   "source": [
    "print(X_train.describe())\n",
    "print(y_train.describe())"
   ]
  },
  {
   "cell_type": "markdown",
   "metadata": {},
   "source": [
    "## Regression task"
   ]
  },
  {
   "cell_type": "code",
   "execution_count": 24,
   "metadata": {},
   "outputs": [],
   "source": [
    "optimizer=\"rmsprop\"\n",
    "loss_function=\"MeanSquaredError\" \n",
    "learning_rate=0.01\n",
    "\n",
    "def build_model():\n",
    "    global model\n",
    "    model = models.Sequential()\n",
    "\n",
    "    #ADD LAYERS\n",
    "    model.add(layers.Dense(100, activation='relu', input_shape=(X_train.shape[1],)))\n",
    "    model.add(layers.Dropout(rate = .01))\n",
    "    model.add(layers.Dense(10, activation='relu', bias_regularizer=regularizers.l1_l2(l1=.0001, l2 = .0001)))\n",
    "    model.add(layers.Dense(5, activation='relu'))\n",
    "    model.add(layers.Dense(1,  activation='linear'))\n",
    "\n",
    "    #COMPILATION (i.e. choose optimizer, loss, and metrics to monitor)\n",
    "    model.compile(optimizer=optimizer,\n",
    "                    loss=loss_function,\n",
    "                    metrics=['RootMeanSquaredError'])\n",
    "    \n",
    "build_model()"
   ]
  },
  {
   "cell_type": "code",
   "execution_count": 25,
   "metadata": {},
   "outputs": [
    {
     "name": "stdout",
     "output_type": "stream",
     "text": [
      "Model: \"sequential_3\"\n",
      "_________________________________________________________________\n",
      " Layer (type)                Output Shape              Param #   \n",
      "=================================================================\n",
      " dense_10 (Dense)            (None, 100)               2700      \n",
      "                                                                 \n",
      " dropout_3 (Dropout)         (None, 100)               0         \n",
      "                                                                 \n",
      " dense_11 (Dense)            (None, 10)                1010      \n",
      "                                                                 \n",
      " dense_12 (Dense)            (None, 5)                 55        \n",
      "                                                                 \n",
      " dense_13 (Dense)            (None, 1)                 6         \n",
      "                                                                 \n",
      "=================================================================\n",
      "Total params: 3,771\n",
      "Trainable params: 3,771\n",
      "Non-trainable params: 0\n",
      "_________________________________________________________________\n",
      "None\n"
     ]
    }
   ],
   "source": [
    "print(model.summary())"
   ]
  },
  {
   "cell_type": "code",
   "execution_count": 28,
   "metadata": {},
   "outputs": [
    {
     "name": "stdout",
     "output_type": "stream",
     "text": [
      "Epoch 1/50\n",
      "2026/2026 [==============================] - 6s 3ms/step - loss: 0.0669 - root_mean_squared_error: 0.2565 - val_loss: 0.0858 - val_root_mean_squared_error: 0.2909\n",
      "Epoch 2/50\n",
      "2026/2026 [==============================] - 6s 3ms/step - loss: 0.0648 - root_mean_squared_error: 0.2524 - val_loss: 0.0666 - val_root_mean_squared_error: 0.2558\n",
      "Epoch 3/50\n",
      "2026/2026 [==============================] - 5s 3ms/step - loss: 0.0633 - root_mean_squared_error: 0.2493 - val_loss: 0.0651 - val_root_mean_squared_error: 0.2529\n",
      "Epoch 4/50\n",
      "2026/2026 [==============================] - 5s 3ms/step - loss: 0.0650 - root_mean_squared_error: 0.2528 - val_loss: 0.0678 - val_root_mean_squared_error: 0.2582\n",
      "Epoch 5/50\n",
      "2026/2026 [==============================] - 5s 3ms/step - loss: 0.0633 - root_mean_squared_error: 0.2493 - val_loss: 0.0649 - val_root_mean_squared_error: 0.2524\n",
      "Epoch 6/50\n",
      "2026/2026 [==============================] - 6s 3ms/step - loss: 0.0624 - root_mean_squared_error: 0.2475 - val_loss: 0.0637 - val_root_mean_squared_error: 0.2501\n",
      "Epoch 7/50\n",
      "2026/2026 [==============================] - 5s 3ms/step - loss: 0.0630 - root_mean_squared_error: 0.2487 - val_loss: 0.0661 - val_root_mean_squared_error: 0.2548\n",
      "Epoch 8/50\n",
      "2026/2026 [==============================] - 5s 3ms/step - loss: 0.0628 - root_mean_squared_error: 0.2482 - val_loss: 0.0599 - val_root_mean_squared_error: 0.2424\n",
      "Epoch 9/50\n",
      "2026/2026 [==============================] - 6s 3ms/step - loss: 0.0617 - root_mean_squared_error: 0.2459 - val_loss: 0.0750 - val_root_mean_squared_error: 0.2716\n",
      "Epoch 10/50\n",
      "2026/2026 [==============================] - 5s 3ms/step - loss: 0.0620 - root_mean_squared_error: 0.2465 - val_loss: 0.0697 - val_root_mean_squared_error: 0.2616\n",
      "Epoch 11/50\n",
      "2026/2026 [==============================] - 6s 3ms/step - loss: 0.0597 - root_mean_squared_error: 0.2418 - val_loss: 0.0634 - val_root_mean_squared_error: 0.2493\n",
      "Epoch 12/50\n",
      "2026/2026 [==============================] - 5s 3ms/step - loss: 0.0602 - root_mean_squared_error: 0.2429 - val_loss: 0.0614 - val_root_mean_squared_error: 0.2452\n",
      "Epoch 13/50\n",
      "2026/2026 [==============================] - 5s 3ms/step - loss: 0.0592 - root_mean_squared_error: 0.2408 - val_loss: 0.0596 - val_root_mean_squared_error: 0.2416\n",
      "Epoch 14/50\n",
      "2026/2026 [==============================] - 6s 3ms/step - loss: 0.0597 - root_mean_squared_error: 0.2418 - val_loss: 0.0593 - val_root_mean_squared_error: 0.2410\n",
      "Epoch 15/50\n",
      "2026/2026 [==============================] - 6s 3ms/step - loss: 0.0582 - root_mean_squared_error: 0.2387 - val_loss: 0.0639 - val_root_mean_squared_error: 0.2504\n",
      "Epoch 16/50\n",
      "2026/2026 [==============================] - 6s 3ms/step - loss: 0.0573 - root_mean_squared_error: 0.2367 - val_loss: 0.0583 - val_root_mean_squared_error: 0.2388\n",
      "Epoch 17/50\n",
      "2026/2026 [==============================] - 5s 3ms/step - loss: 0.0567 - root_mean_squared_error: 0.2354 - val_loss: 0.0610 - val_root_mean_squared_error: 0.2444\n",
      "Epoch 18/50\n",
      "2026/2026 [==============================] - 5s 3ms/step - loss: 0.0565 - root_mean_squared_error: 0.2350 - val_loss: 0.0616 - val_root_mean_squared_error: 0.2456\n",
      "Epoch 19/50\n",
      "2026/2026 [==============================] - 5s 3ms/step - loss: 0.0578 - root_mean_squared_error: 0.2377 - val_loss: 0.0589 - val_root_mean_squared_error: 0.2402\n",
      "Epoch 20/50\n",
      "2026/2026 [==============================] - 5s 3ms/step - loss: 0.0554 - root_mean_squared_error: 0.2327 - val_loss: 0.0661 - val_root_mean_squared_error: 0.2546\n",
      "Epoch 21/50\n",
      "2026/2026 [==============================] - 5s 3ms/step - loss: 0.0545 - root_mean_squared_error: 0.2307 - val_loss: 0.0690 - val_root_mean_squared_error: 0.2602\n",
      "Epoch 22/50\n",
      "2026/2026 [==============================] - 6s 3ms/step - loss: 0.0548 - root_mean_squared_error: 0.2314 - val_loss: 0.0592 - val_root_mean_squared_error: 0.2406\n",
      "Epoch 23/50\n",
      "2026/2026 [==============================] - 5s 3ms/step - loss: 0.0540 - root_mean_squared_error: 0.2297 - val_loss: 0.0576 - val_root_mean_squared_error: 0.2374\n",
      "Epoch 24/50\n",
      "2026/2026 [==============================] - 6s 3ms/step - loss: 0.0545 - root_mean_squared_error: 0.2306 - val_loss: 0.0639 - val_root_mean_squared_error: 0.2502\n",
      "Epoch 25/50\n",
      "2026/2026 [==============================] - 6s 3ms/step - loss: 0.0533 - root_mean_squared_error: 0.2281 - val_loss: 0.0571 - val_root_mean_squared_error: 0.2362\n",
      "Epoch 26/50\n",
      "2026/2026 [==============================] - 5s 3ms/step - loss: 0.0544 - root_mean_squared_error: 0.2304 - val_loss: 0.0565 - val_root_mean_squared_error: 0.2350\n",
      "Epoch 27/50\n",
      "2026/2026 [==============================] - 6s 3ms/step - loss: 0.0523 - root_mean_squared_error: 0.2259 - val_loss: 0.0539 - val_root_mean_squared_error: 0.2295\n",
      "Epoch 28/50\n",
      "2026/2026 [==============================] - 5s 3ms/step - loss: 0.0542 - root_mean_squared_error: 0.2300 - val_loss: 0.0566 - val_root_mean_squared_error: 0.2353\n",
      "Epoch 29/50\n",
      "2026/2026 [==============================] - 5s 3ms/step - loss: 0.0522 - root_mean_squared_error: 0.2257 - val_loss: 0.0535 - val_root_mean_squared_error: 0.2285\n",
      "Epoch 30/50\n",
      "2026/2026 [==============================] - 5s 3ms/step - loss: 0.0509 - root_mean_squared_error: 0.2229 - val_loss: 0.0537 - val_root_mean_squared_error: 0.2290\n",
      "Epoch 31/50\n",
      "2026/2026 [==============================] - 6s 3ms/step - loss: 0.0507 - root_mean_squared_error: 0.2224 - val_loss: 0.0578 - val_root_mean_squared_error: 0.2378\n",
      "Epoch 32/50\n",
      "2026/2026 [==============================] - 6s 3ms/step - loss: 0.0519 - root_mean_squared_error: 0.2251 - val_loss: 0.0605 - val_root_mean_squared_error: 0.2433\n",
      "Epoch 33/50\n",
      "2026/2026 [==============================] - 6s 3ms/step - loss: 0.0506 - root_mean_squared_error: 0.2222 - val_loss: 0.0568 - val_root_mean_squared_error: 0.2358\n",
      "Epoch 34/50\n",
      "2026/2026 [==============================] - 6s 3ms/step - loss: 0.0511 - root_mean_squared_error: 0.2233 - val_loss: 0.0508 - val_root_mean_squared_error: 0.2226\n",
      "Epoch 35/50\n",
      "2026/2026 [==============================] - 6s 3ms/step - loss: 0.0486 - root_mean_squared_error: 0.2178 - val_loss: 0.0517 - val_root_mean_squared_error: 0.2246\n",
      "Epoch 36/50\n",
      "2026/2026 [==============================] - 6s 3ms/step - loss: 0.0496 - root_mean_squared_error: 0.2200 - val_loss: 0.0555 - val_root_mean_squared_error: 0.2329\n",
      "Epoch 37/50\n",
      "2026/2026 [==============================] - 6s 3ms/step - loss: 0.0490 - root_mean_squared_error: 0.2185 - val_loss: 0.0572 - val_root_mean_squared_error: 0.2367\n",
      "Epoch 38/50\n",
      "2026/2026 [==============================] - 6s 3ms/step - loss: 0.0491 - root_mean_squared_error: 0.2189 - val_loss: 0.0578 - val_root_mean_squared_error: 0.2379\n",
      "Epoch 39/50\n",
      "2026/2026 [==============================] - 6s 3ms/step - loss: 0.0493 - root_mean_squared_error: 0.2194 - val_loss: 0.0535 - val_root_mean_squared_error: 0.2287\n",
      "Epoch 40/50\n",
      "2026/2026 [==============================] - 6s 3ms/step - loss: 0.0486 - root_mean_squared_error: 0.2179 - val_loss: 0.0572 - val_root_mean_squared_error: 0.2368\n",
      "Epoch 40: early stopping\n"
     ]
    },
    {
     "data": {
      "image/png": "[encoded data removed]",
      "text/plain": [
       "<Figure size 640x480 with 1 Axes>"
      ]
     },
     "metadata": {},
     "output_type": "display_data"
    }
   ],
   "source": [
    "callback = callbacks.EarlyStopping(monitor='loss', patience=5, verbose=10)\n",
    "\n",
    "#TRAIN\n",
    "epochs=50\n",
    "history = model.fit(X_train, y_train, validation_split=0.3, epochs=epochs, callbacks=[callback], batch_size=X_train.shape[1])\n",
    "history_dict = history.history\n",
    "\n",
    "## THE FUNCTION THAT IS BEING PLOTTED\n",
    "def plot_history(quantity=\"loss\"):\n",
    "    # PLOTTING THE TRAINING AND VALIDATION LOSS \n",
    "    history_dict = history.history\n",
    "    loss_values = history_dict[quantity]\n",
    "    val_loss_values = history_dict[\"val_\"+quantity]\n",
    "    epochs = range(1, len(loss_values) + 1)\n",
    "    plt.plot(epochs, loss_values, \"bo\", label=\"Training \"+quantity)\n",
    "    plt.plot(epochs, val_loss_values, \"b\", label=\"Validation \"+quantity)\n",
    "    plt.title(\"Training and validation \"+quantity)\n",
    "    plt.xlabel(\"Epochs\")\n",
    "    plt.ylabel(quantity)\n",
    "    plt.legend()\n",
    "    plt.show()\n",
    "\n",
    "plot_history(\"loss\")"
   ]
  },
  {
   "cell_type": "markdown",
   "metadata": {},
   "source": [
    "## Classification task"
   ]
  },
  {
   "cell_type": "code",
   "execution_count": 29,
   "metadata": {},
   "outputs": [],
   "source": [
    "X = set.drop([\"is_business\"], axis = 1)\n",
    "y_total = set[\"is_business\"]\n",
    "\n",
    "x_means = np.mean(X,axis=0)\n",
    "x_std = np.std(X,axis = 0)\n",
    "x_total = (X - x_means)/x_std\n",
    "\n",
    "X_train, X_test, y_train, y_test = train_test_split(x_total, y_total, test_size=0.2, random_state=42)"
   ]
  },
  {
   "cell_type": "code",
   "execution_count": 33,
   "metadata": {},
   "outputs": [],
   "source": [
    "optimizer=\"adam\"\n",
    "loss_function=\"binary_crossentropy\" \n",
    "learning_rate=0.01\n",
    "\n",
    "def build_model():\n",
    "    global model\n",
    "    model = models.Sequential()\n",
    "\n",
    "    #ADD LAYERS\n",
    "    model.add(layers.Dense(100, activation='relu', input_shape=(X_train.shape[1],)))\n",
    "    model.add(layers.Dropout(rate = .01))\n",
    "    model.add(layers.Dense(10, activation='relu', bias_regularizer=regularizers.l1_l2(l1=.0001, l2 = .0001)))\n",
    "    model.add(layers.Dense(5, activation='relu'))\n",
    "    model.add(layers.Dense(1,  activation='sigmoid'))\n",
    "\n",
    "    #COMPILATION (i.e. choose optimizer, loss, and metrics to monitor)\n",
    "    model.compile(optimizer=optimizer,\n",
    "                    loss=loss_function,\n",
    "                    metrics=['accuracy'])\n",
    "    \n",
    "build_model()"
   ]
  },
  {
   "cell_type": "code",
   "execution_count": 34,
   "metadata": {},
   "outputs": [
    {
     "name": "stdout",
     "output_type": "stream",
     "text": [
      "Epoch 1/10\n",
      "1951/1951 [==============================] - 5s 3ms/step - loss: 0.1785 - accuracy: 0.9202 - val_loss: 0.0827 - val_accuracy: 0.9688\n",
      "Epoch 2/10\n",
      "1951/1951 [==============================] - 5s 2ms/step - loss: 0.0530 - accuracy: 0.9801 - val_loss: 0.0386 - val_accuracy: 0.9860\n",
      "Epoch 3/10\n",
      "1951/1951 [==============================] - 5s 2ms/step - loss: 0.0342 - accuracy: 0.9876 - val_loss: 0.0165 - val_accuracy: 0.9947\n",
      "Epoch 4/10\n",
      "1951/1951 [==============================] - 5s 2ms/step - loss: 0.0250 - accuracy: 0.9906 - val_loss: 0.0126 - val_accuracy: 0.9964\n",
      "Epoch 5/10\n",
      "1951/1951 [==============================] - 5s 2ms/step - loss: 0.0191 - accuracy: 0.9931 - val_loss: 0.0129 - val_accuracy: 0.9962\n",
      "Epoch 6/10\n",
      "1951/1951 [==============================] - 5s 2ms/step - loss: 0.0143 - accuracy: 0.9951 - val_loss: 0.0067 - val_accuracy: 0.9981\n",
      "Epoch 7/10\n",
      "1951/1951 [==============================] - 5s 2ms/step - loss: 0.0119 - accuracy: 0.9959 - val_loss: 0.0155 - val_accuracy: 0.9936\n",
      "Epoch 8/10\n",
      "1951/1951 [==============================] - 5s 2ms/step - loss: 0.0106 - accuracy: 0.9958 - val_loss: 0.0041 - val_accuracy: 0.9984\n",
      "Epoch 9/10\n",
      "1951/1951 [==============================] - 5s 2ms/step - loss: 0.0101 - accuracy: 0.9968 - val_loss: 0.0023 - val_accuracy: 0.9994\n",
      "Epoch 10/10\n",
      "1951/1951 [==============================] - 5s 2ms/step - loss: 0.0082 - accuracy: 0.9971 - val_loss: 0.0075 - val_accuracy: 0.9974\n"
     ]
    },
    {
     "data": {
      "image/png": "[encoded data removed]",
      "text/plain": [
       "<Figure size 640x480 with 1 Axes>"
      ]
     },
     "metadata": {},
     "output_type": "display_data"
    }
   ],
   "source": [
    "callback = callbacks.EarlyStopping(monitor='loss', patience=5, verbose=10)\n",
    "\n",
    "#TRAIN\n",
    "epochs=10\n",
    "history = model.fit(X_train, y_train, validation_split=0.3, epochs=epochs, callbacks=[callback], batch_size=X_train.shape[1])\n",
    "history_dict = history.history\n",
    "\n",
    "plot_history(\"loss\")"
   ]
  }
 ],
 "metadata": {
  "kernelspec": {
   "display_name": "dsan6600",
   "language": "python",
   "name": "python3"
  },
  "language_info": {
   "codemirror_mode": {
    "name": "ipython",
    "version": 3
   },
   "file_extension": ".py",
   "mimetype": "text/x-python",
   "name": "python",
   "nbconvert_exporter": "python",
   "pygments_lexer": "ipython3",
   "version": "3.10.13"
  }
 },
 "nbformat": 4,
 "nbformat_minor": 2
}
